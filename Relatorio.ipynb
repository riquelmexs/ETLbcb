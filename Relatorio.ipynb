{
 "cells": [
  {
   "cell_type": "code",
   "execution_count": null,
   "id": "81a8e745",
   "metadata": {},
   "outputs": [],
   "source": [
    "import pandas as pd\n",
    "import matplotlib.pyplot as plt\n",
    "import seaborn as sns\n",
    "\n",
    "\n",
    "df = pd.read_csv(\"datasets/expectativa_inflacao_24_meses.csv\")\n",
    "\n",
    "df[\"DataReferencia\"] = pd.to_datetime(df[\"DataReferencia\"])\n",
    "\n",
    "df.describe()\n",
    "\n",
    "print(\"Média:\", df[\"Media\"].mean())\n",
    "print(\"Mediana:\", df[\"Media\"].median())\n",
    "print(\"Desvio Padrão:\", df[\"Media\"].std())\n",
    "print(\"Variância:\", df[\"Media\"].var())\n",
    "\n",
    "\n",
    "df = df.sort_values(\"DataReferencia\")\n",
    "plt.figure(figsize=(10, 5))\n",
    "plt.plot(df[\"DataReferencia\"], df[\"Media\"], marker=\"o\")\n",
    "plt.title(\"Evolução da Média de Inflação Esperada (24 meses)\")\n",
    "plt.xlabel(\"Data\")\n",
    "plt.ylabel(\"Inflação Média (%)\")\n",
    "plt.grid(True)\n",
    "plt.xticks(rotation=45)\n",
    "plt.tight_layout()\n",
    "plt.show()\n",
    "\n",
    "\n",
    "plt.figure(figsize=(8, 5))\n",
    "sns.histplot(df[\"Media\"], bins=20, kde=True)\n",
    "plt.title(\"Distribuição da Inflação Média Esperada\")\n",
    "plt.xlabel(\"Inflação Média (%)\")\n",
    "plt.grid(True)\n",
    "plt.tight_layout()\n",
    "plt.show()\n"
   ]
  }
 ],
 "metadata": {
  "kernelspec": {
   "display_name": "Python 3",
   "language": "python",
   "name": "python3"
  },
  "language_info": {
   "codemirror_mode": {
    "name": "ipython",
    "version": 3
   },
   "file_extension": ".py",
   "mimetype": "text/x-python",
   "name": "python",
   "nbconvert_exporter": "python",
   "pygments_lexer": "ipython3",
   "version": "3.12.10"
  }
 },
 "nbformat": 4,
 "nbformat_minor": 5
}
