{
 "cells": [
  {
   "cell_type": "markdown",
   "id": "5eca94a1",
   "metadata": {},
   "source": [
    "# 📊 Análise de Cartões - Expectativa de Inflação (24 Meses)"
   ]
  },
  {
   "cell_type": "code",
   "execution_count": 12,
   "id": "b309807f",
   "metadata": {},
   "outputs": [
    {
     "ename": "ModuleNotFoundError",
     "evalue": "No module named 'pandas'",
     "output_type": "error",
     "traceback": [
      "\u001b[31m---------------------------------------------------------------------------\u001b[39m",
      "\u001b[31mModuleNotFoundError\u001b[39m                       Traceback (most recent call last)",
      "\u001b[36mCell\u001b[39m\u001b[36m \u001b[39m\u001b[32mIn[12]\u001b[39m\u001b[32m, line 1\u001b[39m\n\u001b[32m----> \u001b[39m\u001b[32m1\u001b[39m \u001b[38;5;28;01mimport\u001b[39;00m\u001b[38;5;250m \u001b[39m\u001b[34;01mpandas\u001b[39;00m\u001b[38;5;250m \u001b[39m\u001b[38;5;28;01mas\u001b[39;00m\u001b[38;5;250m \u001b[39m\u001b[34;01mpd\u001b[39;00m\n\u001b[32m      2\u001b[39m \u001b[38;5;28;01mimport\u001b[39;00m\u001b[38;5;250m \u001b[39m\u001b[34;01mmatplotlib\u001b[39;00m\u001b[34;01m.\u001b[39;00m\u001b[34;01mpyplot\u001b[39;00m\u001b[38;5;250m \u001b[39m\u001b[38;5;28;01mas\u001b[39;00m\u001b[38;5;250m \u001b[39m\u001b[34;01mplt\u001b[39;00m\n\u001b[32m      3\u001b[39m \u001b[38;5;28;01mimport\u001b[39;00m\u001b[38;5;250m \u001b[39m\u001b[34;01mseaborn\u001b[39;00m\u001b[38;5;250m \u001b[39m\u001b[38;5;28;01mas\u001b[39;00m\u001b[38;5;250m \u001b[39m\u001b[34;01msns\u001b[39;00m\n",
      "\u001b[31mModuleNotFoundError\u001b[39m: No module named 'pandas'"
     ]
    }
   ],
   "source": [
    "import pandas as pd\n",
    "import matplotlib.pyplot as plt\n",
    "import seaborn as sns\n",
    "\n",
    "# Carregar o dataset\n",
    "df = pd.read_csv(\"datasets/expectativa_inflacao_24_meses.csv\")\n",
    "df[\"DataReferencia\"] = pd.to_datetime(df[\"DataReferencia\"])\n",
    "df.head()"
   ]
  },
  {
   "cell_type": "markdown",
   "id": "559a9456",
   "metadata": {},
   "source": [
    "## 📌 Indicadores Estatísticos Principais"
   ]
  },
  {
   "cell_type": "code",
   "execution_count": null,
   "id": "e5aa06bf",
   "metadata": {},
   "outputs": [
    {
     "ename": "NameError",
     "evalue": "name 'df' is not defined",
     "output_type": "error",
     "traceback": [
      "\u001b[31m---------------------------------------------------------------------------\u001b[39m",
      "\u001b[31mNameError\u001b[39m                                 Traceback (most recent call last)",
      "\u001b[36mCell\u001b[39m\u001b[36m \u001b[39m\u001b[32mIn[10]\u001b[39m\u001b[32m, line 2\u001b[39m\n\u001b[32m      1\u001b[39m \u001b[38;5;66;03m# Cálculo dos KPIs\u001b[39;00m\n\u001b[32m----> \u001b[39m\u001b[32m2\u001b[39m media_geral = \u001b[43mdf\u001b[49m[\u001b[33m\"\u001b[39m\u001b[33mMedia\u001b[39m\u001b[33m\"\u001b[39m].mean()\n\u001b[32m      3\u001b[39m mediana = df[\u001b[33m\"\u001b[39m\u001b[33mMedia\u001b[39m\u001b[33m\"\u001b[39m].median()\n\u001b[32m      4\u001b[39m desvio_padrao = df[\u001b[33m\"\u001b[39m\u001b[33mMedia\u001b[39m\u001b[33m\"\u001b[39m].std()\n",
      "\u001b[31mNameError\u001b[39m: name 'df' is not defined"
     ]
    }
   ],
   "source": [
    "# Cálculo dos KPIs\n",
    "media_geral = df[\"Media\"].mean()\n",
    "mediana = df[\"Media\"].median()\n",
    "desvio_padrao = df[\"Media\"].std()\n",
    "total_linhas = len(df)\n",
    "maximo = df[\"Maximo\"].max()\n",
    "minimo = df[\"Minimo\"].min()\n",
    "\n",
    "# Exibição estilo cartões\n",
    "print(f\"📌 Média Geral: {media_geral:.2f}%\")\n",
    "print(f\"📌 Mediana: {mediana:.2f}%\")\n",
    "print(f\"📌 Desvio Padrão: {desvio_padrao:.2f}\")\n",
    "print(f\"📌 Total de Previsões: {total_linhas}\")\n",
    "print(f\"📌 Máximo Previsto: {maximo:.2f}%\")\n",
    "print(f\"📌 Mínimo Previsto: {minimo:.2f}%\")"
   ]
  },
  {
   "cell_type": "markdown",
   "id": "eb414fdb",
   "metadata": {},
   "source": [
    "## 📈 Evolução da Média da Inflação Esperada"
   ]
  },
  {
   "cell_type": "code",
   "execution_count": null,
   "id": "a257fbdc",
   "metadata": {},
   "outputs": [
    {
     "ename": "NameError",
     "evalue": "name 'plt' is not defined",
     "output_type": "error",
     "traceback": [
      "\u001b[31m---------------------------------------------------------------------------\u001b[39m",
      "\u001b[31mNameError\u001b[39m                                 Traceback (most recent call last)",
      "\u001b[36mCell\u001b[39m\u001b[36m \u001b[39m\u001b[32mIn[11]\u001b[39m\u001b[32m, line 1\u001b[39m\n\u001b[32m----> \u001b[39m\u001b[32m1\u001b[39m \u001b[43mplt\u001b[49m.figure(figsize=(\u001b[32m10\u001b[39m,\u001b[32m5\u001b[39m))\n\u001b[32m      2\u001b[39m sns.lineplot(data=df, x=\u001b[33m\"\u001b[39m\u001b[33mDataReferencia\u001b[39m\u001b[33m\"\u001b[39m, y=\u001b[33m\"\u001b[39m\u001b[33mMedia\u001b[39m\u001b[33m\"\u001b[39m, marker=\u001b[33m\"\u001b[39m\u001b[33mo\u001b[39m\u001b[33m\"\u001b[39m)\n\u001b[32m      3\u001b[39m plt.title(\u001b[33m\"\u001b[39m\u001b[33mEvolução da Média da Inflação Esperada\u001b[39m\u001b[33m\"\u001b[39m)\n",
      "\u001b[31mNameError\u001b[39m: name 'plt' is not defined"
     ]
    }
   ],
   "source": [
    "plt.figure(figsize=(10,5))\n",
    "sns.lineplot(data=df, x=\"DataReferencia\", y=\"Media\", marker=\"o\")\n",
    "plt.title(\"Evolução da Média da Inflação Esperada\")\n",
    "plt.xlabel(\"Data de Referência\")\n",
    "plt.ylabel(\"Média (%)\")\n",
    "plt.xticks(rotation=45)\n",
    "plt.grid(True)\n",
    "plt.tight_layout()\n",
    "plt.show()"
   ]
  }
 ],
 "metadata": {
  "kernelspec": {
   "display_name": "Python 3",
   "name": "python3"
  },
  "language_info": {
   "codemirror_mode": {
    "name": "ipython",
    "version": 3
   },
   "file_extension": ".py",
   "mimetype": "text/x-python",
   "name": "python",
   "nbconvert_exporter": "python",
   "pygments_lexer": "ipython3",
   "version": "3.12.10"
  }
 },
 "nbformat": 4,
 "nbformat_minor": 5
}
