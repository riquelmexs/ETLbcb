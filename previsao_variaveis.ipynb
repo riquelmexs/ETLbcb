{
 "cells": [
  {
   "cell_type": "code",
   "execution_count": 1,
   "id": "88797ea1",
   "metadata": {},
   "outputs": [
    {
     "name": "stdout",
     "output_type": "stream",
     "text": [
      "Colunas disponíveis no dataset:\n",
      "['datatrimestre', 'valorPix', 'valorTED', 'valorTEC', 'valorCheque', 'valorBoleto', 'valorDOC', 'valorCartaoCredito', 'valorCartaoDebito', 'valorCartaoPrePago', 'valorTransIntrabancaria', 'valorConvenios', 'valorDebitoDireto', 'valorSaques', 'quantidadePix', 'quantidadeTED', 'quantidadeTEC', 'quantidadeCheque', 'quantidadeBoleto', 'quantidadeDOC', 'quantidadeCartaoCredito', 'quantidadeCartaoDebito', 'quantidadeCartaoPrePago', 'quantidadeTransIntrabancaria', 'quantidadeConvenios', 'quantidadeDebitoDireto', 'quantidadeSaques']\n",
      "Variável alvo 'valor_cartao_credito' não encontrada. Pulando.\n",
      "Variável alvo 'valor_cartao_debito' não encontrada. Pulando.\n"
     ]
    }
   ],
   "source": [
    "import sqlite3\n",
    "import pandas as pd\n",
    "from sklearn.model_selection import train_test_split\n",
    "from sklearn.linear_model import LinearRegression\n",
    "from sklearn.metrics import mean_squared_error, r2_score\n",
    "\n",
    "conn = sqlite3.connect(\"src/datasets/etlbcb.db\")\n",
    "df = pd.read_sql_query(\"SELECT * FROM meios_pagamentos_tri\", conn)\n",
    "conn.close()\n",
    "\n",
    "print(\"Colunas disponíveis no dataset:\")\n",
    "print(df.columns.tolist())\n",
    "\n",
    "alvos = ['valor_cartao_credito', 'valor_cartao_debito']\n",
    "variaveis_explicativas = ['valor_pix', 'valor_pre_datar', 'valor_cheque']\n",
    "\n",
    "for alvo in alvos:\n",
    "    if alvo not in df.columns:\n",
    "        print(f\"Variável alvo '{alvo}' não encontrada. Pulando.\")\n",
    "        continue\n",
    "\n",
    "    if not all(col in df.columns for col in variaveis_explicativas):\n",
    "        print(f\"Alguma variável explicativa não encontrada. Verifique os nomes.\")\n",
    "        continue\n",
    "\n",
    "    X = df[variaveis_explicativas]\n",
    "    y = df[alvo]\n",
    "\n",
    "    X_train, X_test, y_train, y_test = train_test_split(X, y, test_size=0.2, random_state=42)\n",
    "\n",
    "    modelo = LinearRegression()\n",
    "    modelo.fit(X_train, y_train)\n",
    "\n",
    "    y_pred = modelo.predict(X_test)\n",
    "\n",
    "    print(f\"{alvo.upper()}\")\n",
    "    print(f\"MSE: {mean_squared_error(y_test, y_pred):.2f}\")\n",
    "    print(f\"R2: {r2_score(y_test, y_pred):.2f}\\n\")\n"
   ]
  }
 ],
 "metadata": {
  "kernelspec": {
   "display_name": "base",
   "language": "python",
   "name": "python3"
  },
  "language_info": {
   "codemirror_mode": {
    "name": "ipython",
    "version": 3
   },
   "file_extension": ".py",
   "mimetype": "text/x-python",
   "name": "python",
   "nbconvert_exporter": "python",
   "pygments_lexer": "ipython3",
   "version": "3.12.7"
  }
 },
 "nbformat": 4,
 "nbformat_minor": 5
}
